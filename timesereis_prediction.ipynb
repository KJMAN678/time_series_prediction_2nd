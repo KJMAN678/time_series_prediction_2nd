{
  "nbformat": 4,
  "nbformat_minor": 2,
  "metadata": {
    "colab": {
      "name": "timesereis_prediction_v4.ipynb",
      "provenance": [],
      "collapsed_sections": []
    },
    "kernelspec": {
      "name": "python3",
      "display_name": "Python 3"
    },
    "accelerator": "GPU",
    "widgets": {
      "application/vnd.jupyter.widget-state+json": {
        "caf80bdb70be48e9865730f91152dcc1": {
          "model_module": "@jupyter-widgets/controls",
          "model_name": "HBoxModel",
          "model_module_version": "1.5.0",
          "state": {
            "_view_name": "HBoxView",
            "_dom_classes": [],
            "_model_name": "HBoxModel",
            "_view_module": "@jupyter-widgets/controls",
            "_model_module_version": "1.5.0",
            "_view_count": null,
            "_view_module_version": "1.5.0",
            "box_style": "",
            "layout": "IPY_MODEL_e26b1c09c4c749569513c2e9dab36ccc",
            "_model_module": "@jupyter-widgets/controls",
            "children": [
              "IPY_MODEL_42ca232d3b6543bdb214b1711233c032",
              "IPY_MODEL_d168e5ad459143da87e7d80eb47fe9f2",
              "IPY_MODEL_97fedd0ba021446da008d6bacaba2392"
            ]
          }
        },
        "e26b1c09c4c749569513c2e9dab36ccc": {
          "model_module": "@jupyter-widgets/base",
          "model_name": "LayoutModel",
          "model_module_version": "1.2.0",
          "state": {
            "_view_name": "LayoutView",
            "grid_template_rows": null,
            "right": null,
            "justify_content": null,
            "_view_module": "@jupyter-widgets/base",
            "overflow": null,
            "_model_module_version": "1.2.0",
            "_view_count": null,
            "flex_flow": null,
            "width": null,
            "min_width": null,
            "border": null,
            "align_items": null,
            "bottom": null,
            "_model_module": "@jupyter-widgets/base",
            "top": null,
            "grid_column": null,
            "overflow_y": null,
            "overflow_x": null,
            "grid_auto_flow": null,
            "grid_area": null,
            "grid_template_columns": null,
            "flex": null,
            "_model_name": "LayoutModel",
            "justify_items": null,
            "grid_row": null,
            "max_height": null,
            "align_content": null,
            "visibility": null,
            "align_self": null,
            "height": null,
            "min_height": null,
            "padding": null,
            "grid_auto_rows": null,
            "grid_gap": null,
            "max_width": null,
            "order": null,
            "_view_module_version": "1.2.0",
            "grid_template_areas": null,
            "object_position": null,
            "object_fit": null,
            "grid_auto_columns": null,
            "margin": null,
            "display": null,
            "left": null
          }
        },
        "42ca232d3b6543bdb214b1711233c032": {
          "model_module": "@jupyter-widgets/controls",
          "model_name": "HTMLModel",
          "model_module_version": "1.5.0",
          "state": {
            "_view_name": "HTMLView",
            "style": "IPY_MODEL_776b6fe63d154374bd88b6ca0665809d",
            "_dom_classes": [],
            "description": "",
            "_model_name": "HTMLModel",
            "placeholder": "​",
            "_view_module": "@jupyter-widgets/controls",
            "_model_module_version": "1.5.0",
            "value": "100%",
            "_view_count": null,
            "_view_module_version": "1.5.0",
            "description_tooltip": null,
            "_model_module": "@jupyter-widgets/controls",
            "layout": "IPY_MODEL_624d4d87e43a4ec0abadd9ef10a3ef97"
          }
        },
        "d168e5ad459143da87e7d80eb47fe9f2": {
          "model_module": "@jupyter-widgets/controls",
          "model_name": "FloatProgressModel",
          "model_module_version": "1.5.0",
          "state": {
            "_view_name": "ProgressView",
            "style": "IPY_MODEL_0fdc76ae77094e6a93af3a5f0e474667",
            "_dom_classes": [],
            "description": "",
            "_model_name": "FloatProgressModel",
            "bar_style": "success",
            "max": 300,
            "_view_module": "@jupyter-widgets/controls",
            "_model_module_version": "1.5.0",
            "value": 300,
            "_view_count": null,
            "_view_module_version": "1.5.0",
            "orientation": "horizontal",
            "min": 0,
            "description_tooltip": null,
            "_model_module": "@jupyter-widgets/controls",
            "layout": "IPY_MODEL_dd570a7465ec4766a7e0d6517b752486"
          }
        },
        "97fedd0ba021446da008d6bacaba2392": {
          "model_module": "@jupyter-widgets/controls",
          "model_name": "HTMLModel",
          "model_module_version": "1.5.0",
          "state": {
            "_view_name": "HTMLView",
            "style": "IPY_MODEL_f5ddcb48be5e4ecd85c2ca27a54538ac",
            "_dom_classes": [],
            "description": "",
            "_model_name": "HTMLModel",
            "placeholder": "​",
            "_view_module": "@jupyter-widgets/controls",
            "_model_module_version": "1.5.0",
            "value": " 300/300 [00:15&lt;00:00, 19.94it/s]",
            "_view_count": null,
            "_view_module_version": "1.5.0",
            "description_tooltip": null,
            "_model_module": "@jupyter-widgets/controls",
            "layout": "IPY_MODEL_50d44dac508743fbbf5664d57aed90a3"
          }
        },
        "776b6fe63d154374bd88b6ca0665809d": {
          "model_module": "@jupyter-widgets/controls",
          "model_name": "DescriptionStyleModel",
          "model_module_version": "1.5.0",
          "state": {
            "_view_name": "StyleView",
            "_model_name": "DescriptionStyleModel",
            "description_width": "",
            "_view_module": "@jupyter-widgets/base",
            "_model_module_version": "1.5.0",
            "_view_count": null,
            "_view_module_version": "1.2.0",
            "_model_module": "@jupyter-widgets/controls"
          }
        },
        "624d4d87e43a4ec0abadd9ef10a3ef97": {
          "model_module": "@jupyter-widgets/base",
          "model_name": "LayoutModel",
          "model_module_version": "1.2.0",
          "state": {
            "_view_name": "LayoutView",
            "grid_template_rows": null,
            "right": null,
            "justify_content": null,
            "_view_module": "@jupyter-widgets/base",
            "overflow": null,
            "_model_module_version": "1.2.0",
            "_view_count": null,
            "flex_flow": null,
            "width": null,
            "min_width": null,
            "border": null,
            "align_items": null,
            "bottom": null,
            "_model_module": "@jupyter-widgets/base",
            "top": null,
            "grid_column": null,
            "overflow_y": null,
            "overflow_x": null,
            "grid_auto_flow": null,
            "grid_area": null,
            "grid_template_columns": null,
            "flex": null,
            "_model_name": "LayoutModel",
            "justify_items": null,
            "grid_row": null,
            "max_height": null,
            "align_content": null,
            "visibility": null,
            "align_self": null,
            "height": null,
            "min_height": null,
            "padding": null,
            "grid_auto_rows": null,
            "grid_gap": null,
            "max_width": null,
            "order": null,
            "_view_module_version": "1.2.0",
            "grid_template_areas": null,
            "object_position": null,
            "object_fit": null,
            "grid_auto_columns": null,
            "margin": null,
            "display": null,
            "left": null
          }
        },
        "0fdc76ae77094e6a93af3a5f0e474667": {
          "model_module": "@jupyter-widgets/controls",
          "model_name": "ProgressStyleModel",
          "model_module_version": "1.5.0",
          "state": {
            "_view_name": "StyleView",
            "_model_name": "ProgressStyleModel",
            "description_width": "",
            "_view_module": "@jupyter-widgets/base",
            "_model_module_version": "1.5.0",
            "_view_count": null,
            "_view_module_version": "1.2.0",
            "bar_color": null,
            "_model_module": "@jupyter-widgets/controls"
          }
        },
        "dd570a7465ec4766a7e0d6517b752486": {
          "model_module": "@jupyter-widgets/base",
          "model_name": "LayoutModel",
          "model_module_version": "1.2.0",
          "state": {
            "_view_name": "LayoutView",
            "grid_template_rows": null,
            "right": null,
            "justify_content": null,
            "_view_module": "@jupyter-widgets/base",
            "overflow": null,
            "_model_module_version": "1.2.0",
            "_view_count": null,
            "flex_flow": null,
            "width": null,
            "min_width": null,
            "border": null,
            "align_items": null,
            "bottom": null,
            "_model_module": "@jupyter-widgets/base",
            "top": null,
            "grid_column": null,
            "overflow_y": null,
            "overflow_x": null,
            "grid_auto_flow": null,
            "grid_area": null,
            "grid_template_columns": null,
            "flex": null,
            "_model_name": "LayoutModel",
            "justify_items": null,
            "grid_row": null,
            "max_height": null,
            "align_content": null,
            "visibility": null,
            "align_self": null,
            "height": null,
            "min_height": null,
            "padding": null,
            "grid_auto_rows": null,
            "grid_gap": null,
            "max_width": null,
            "order": null,
            "_view_module_version": "1.2.0",
            "grid_template_areas": null,
            "object_position": null,
            "object_fit": null,
            "grid_auto_columns": null,
            "margin": null,
            "display": null,
            "left": null
          }
        },
        "f5ddcb48be5e4ecd85c2ca27a54538ac": {
          "model_module": "@jupyter-widgets/controls",
          "model_name": "DescriptionStyleModel",
          "model_module_version": "1.5.0",
          "state": {
            "_view_name": "StyleView",
            "_model_name": "DescriptionStyleModel",
            "description_width": "",
            "_view_module": "@jupyter-widgets/base",
            "_model_module_version": "1.5.0",
            "_view_count": null,
            "_view_module_version": "1.2.0",
            "_model_module": "@jupyter-widgets/controls"
          }
        },
        "50d44dac508743fbbf5664d57aed90a3": {
          "model_module": "@jupyter-widgets/base",
          "model_name": "LayoutModel",
          "model_module_version": "1.2.0",
          "state": {
            "_view_name": "LayoutView",
            "grid_template_rows": null,
            "right": null,
            "justify_content": null,
            "_view_module": "@jupyter-widgets/base",
            "overflow": null,
            "_model_module_version": "1.2.0",
            "_view_count": null,
            "flex_flow": null,
            "width": null,
            "min_width": null,
            "border": null,
            "align_items": null,
            "bottom": null,
            "_model_module": "@jupyter-widgets/base",
            "top": null,
            "grid_column": null,
            "overflow_y": null,
            "overflow_x": null,
            "grid_auto_flow": null,
            "grid_area": null,
            "grid_template_columns": null,
            "flex": null,
            "_model_name": "LayoutModel",
            "justify_items": null,
            "grid_row": null,
            "max_height": null,
            "align_content": null,
            "visibility": null,
            "align_self": null,
            "height": null,
            "min_height": null,
            "padding": null,
            "grid_auto_rows": null,
            "grid_gap": null,
            "max_width": null,
            "order": null,
            "_view_module_version": "1.2.0",
            "grid_template_areas": null,
            "object_position": null,
            "object_fit": null,
            "grid_auto_columns": null,
            "margin": null,
            "display": null,
            "left": null
          }
        }
      }
    }
  },
  "cells": [
    {
      "cell_type": "code",
      "execution_count": null,
      "source": [
        "# pandas==1.3.3"
      ],
      "outputs": [],
      "metadata": {
        "id": "gwrmF8vur0e_",
        "colab": {
          "base_uri": "https://localhost:8080/"
        },
        "outputId": "abaa5594-a689-41ee-8387-9ac1323caec4"
      }
    },
    {
      "cell_type": "code",
      "execution_count": 2,
      "source": [
        "import time\r\n",
        "from tqdm import tqdm_notebook as tqdm\r\n",
        "import os\r\n",
        "import random\r\n",
        "import copy\r\n",
        "import pandas as pd\r\n",
        "import numpy as np\r\n",
        "import matplotlib.pyplot as plt\r\n",
        "import japanize_matplotlib\r\n",
        "import datetime\r\n",
        "from IPython.display import display\r\n",
        "import warnings\r\n",
        "warnings.simplefilter('ignore')\r\n",
        "\r\n",
        "from sklearn.model_selection import TimeSeriesSplit\r\n",
        "\r\n",
        "from sklearn.metrics import r2_score\r\n",
        "from sklearn.metrics import mean_squared_error\r\n",
        "\r\n",
        "import torch\r\n",
        "import tensorflow as tf"
      ],
      "outputs": [],
      "metadata": {
        "id": "Zp0GgiXbsDqn"
      }
    },
    {
      "cell_type": "code",
      "execution_count": 3,
      "source": [
        "# アメリカンフットボールプレーヤのPayton ManningのWikiアクセス数\n",
        "df = pd.read_csv('http://logopt.com/data/peyton_manning.csv')\n",
        "display(df.head())\n",
        "display(df.tail())\n",
        "print(df.dtypes)\n",
        "print(df.shape)"
      ],
      "outputs": [
        {
          "output_type": "display_data",
          "data": {
            "text/html": [
              "<div>\n",
              "<style scoped>\n",
              "    .dataframe tbody tr th:only-of-type {\n",
              "        vertical-align: middle;\n",
              "    }\n",
              "\n",
              "    .dataframe tbody tr th {\n",
              "        vertical-align: top;\n",
              "    }\n",
              "\n",
              "    .dataframe thead th {\n",
              "        text-align: right;\n",
              "    }\n",
              "</style>\n",
              "<table border=\"1\" class=\"dataframe\">\n",
              "  <thead>\n",
              "    <tr style=\"text-align: right;\">\n",
              "      <th></th>\n",
              "      <th>ds</th>\n",
              "      <th>y</th>\n",
              "    </tr>\n",
              "  </thead>\n",
              "  <tbody>\n",
              "    <tr>\n",
              "      <th>0</th>\n",
              "      <td>2007-12-10</td>\n",
              "      <td>9.590761</td>\n",
              "    </tr>\n",
              "    <tr>\n",
              "      <th>1</th>\n",
              "      <td>2007-12-11</td>\n",
              "      <td>8.519590</td>\n",
              "    </tr>\n",
              "    <tr>\n",
              "      <th>2</th>\n",
              "      <td>2007-12-12</td>\n",
              "      <td>8.183677</td>\n",
              "    </tr>\n",
              "    <tr>\n",
              "      <th>3</th>\n",
              "      <td>2007-12-13</td>\n",
              "      <td>8.072467</td>\n",
              "    </tr>\n",
              "    <tr>\n",
              "      <th>4</th>\n",
              "      <td>2007-12-14</td>\n",
              "      <td>7.893572</td>\n",
              "    </tr>\n",
              "  </tbody>\n",
              "</table>\n",
              "</div>"
            ],
            "text/plain": [
              "           ds         y\n",
              "0  2007-12-10  9.590761\n",
              "1  2007-12-11  8.519590\n",
              "2  2007-12-12  8.183677\n",
              "3  2007-12-13  8.072467\n",
              "4  2007-12-14  7.893572"
            ]
          },
          "metadata": {}
        },
        {
          "output_type": "display_data",
          "data": {
            "text/html": [
              "<div>\n",
              "<style scoped>\n",
              "    .dataframe tbody tr th:only-of-type {\n",
              "        vertical-align: middle;\n",
              "    }\n",
              "\n",
              "    .dataframe tbody tr th {\n",
              "        vertical-align: top;\n",
              "    }\n",
              "\n",
              "    .dataframe thead th {\n",
              "        text-align: right;\n",
              "    }\n",
              "</style>\n",
              "<table border=\"1\" class=\"dataframe\">\n",
              "  <thead>\n",
              "    <tr style=\"text-align: right;\">\n",
              "      <th></th>\n",
              "      <th>ds</th>\n",
              "      <th>y</th>\n",
              "    </tr>\n",
              "  </thead>\n",
              "  <tbody>\n",
              "    <tr>\n",
              "      <th>2900</th>\n",
              "      <td>2016-01-16</td>\n",
              "      <td>7.817223</td>\n",
              "    </tr>\n",
              "    <tr>\n",
              "      <th>2901</th>\n",
              "      <td>2016-01-17</td>\n",
              "      <td>9.273878</td>\n",
              "    </tr>\n",
              "    <tr>\n",
              "      <th>2902</th>\n",
              "      <td>2016-01-18</td>\n",
              "      <td>10.333775</td>\n",
              "    </tr>\n",
              "    <tr>\n",
              "      <th>2903</th>\n",
              "      <td>2016-01-19</td>\n",
              "      <td>9.125871</td>\n",
              "    </tr>\n",
              "    <tr>\n",
              "      <th>2904</th>\n",
              "      <td>2016-01-20</td>\n",
              "      <td>8.891374</td>\n",
              "    </tr>\n",
              "  </tbody>\n",
              "</table>\n",
              "</div>"
            ],
            "text/plain": [
              "              ds          y\n",
              "2900  2016-01-16   7.817223\n",
              "2901  2016-01-17   9.273878\n",
              "2902  2016-01-18  10.333775\n",
              "2903  2016-01-19   9.125871\n",
              "2904  2016-01-20   8.891374"
            ]
          },
          "metadata": {}
        },
        {
          "output_type": "stream",
          "name": "stdout",
          "text": [
            "ds     object\n",
            "y     float64\n",
            "dtype: object\n",
            "(2905, 2)\n"
          ]
        }
      ],
      "metadata": {
        "colab": {
          "base_uri": "https://localhost:8080/",
          "height": 459
        },
        "id": "hLCYGm08sEtF",
        "outputId": "1535ef85-58cb-4fed-da05-eefa0a2e3973"
      }
    },
    {
      "cell_type": "code",
      "execution_count": 4,
      "source": [
        "df['ds'] = pd.to_datetime(df['ds'])\n",
        "print(df.dtypes)"
      ],
      "outputs": [
        {
          "output_type": "stream",
          "name": "stdout",
          "text": [
            "ds    datetime64[ns]\n",
            "y            float64\n",
            "dtype: object\n"
          ]
        }
      ],
      "metadata": {
        "colab": {
          "base_uri": "https://localhost:8080/"
        },
        "id": "ioV4dNV1yjkM",
        "outputId": "f009ce5a-7a29-4fd0-d4b9-911bb2108788"
      }
    },
    {
      "cell_type": "code",
      "execution_count": 5,
      "source": [
        "# グラフ表示\n",
        "fig = plt.figure(figsize=(20, 8))\n",
        "\n",
        "plt.title(\"Payton Manning Wiki Access Count 2007-12  2016-1\")\n",
        "plt.xlabel(\"time\")\n",
        "plt.ylabel(\"access count\")\n",
        "\n",
        "plt.plot(df[\"ds\"], df[\"y\"], label=\"access count\")\n",
        "plt.legend()\n",
        "plt.show()"
      ],
      "outputs": [
        {
          "output_type": "display_data",
          "data": {
            "image/png": "[encoded data removed]",
            "text/plain": [
              "<Figure size 1440x576 with 1 Axes>"
            ]
          },
          "metadata": {
            "needs_background": "light"
          }
        }
      ],
      "metadata": {
        "colab": {
          "base_uri": "https://localhost:8080/",
          "height": 510
        },
        "id": "8qr9vlmk2BX2",
        "outputId": "21fa33b2-35c5-4a93-da23-111d1d441710"
      }
    },
    {
      "cell_type": "markdown",
      "source": [
        "## シード値の固定"
      ],
      "metadata": {
        "id": "YH4qLWXMGynA"
      }
    },
    {
      "cell_type": "code",
      "execution_count": 6,
      "source": [
        "SEED = 42\n",
        "\n",
        "torch.manual_seed(SEED)\n",
        "tf.random.set_seed(SEED)\n",
        "np.random.seed(SEED)\n",
        "random.seed(SEED)\n",
        "os.environ[\"PYTHONHASHSEED\"] = str(SEED)"
      ],
      "outputs": [],
      "metadata": {
        "id": "3xIjC9wGGyum"
      }
    },
    {
      "cell_type": "markdown",
      "source": [
        "### Merlion"
      ],
      "metadata": {
        "id": "Uu1V6QqGPfX-"
      }
    },
    {
      "cell_type": "code",
      "execution_count": 7,
      "source": [
        "from merlion.utils import TimeSeries\n",
        "from merlion.models.defaults import DefaultForecasterConfig, DefaultForecaster"
      ],
      "outputs": [],
      "metadata": {
        "id": "GMCsWybmPfmn"
      }
    },
    {
      "cell_type": "code",
      "execution_count": 8,
      "source": [
        "start_merlion = time.time()"
      ],
      "outputs": [],
      "metadata": {
        "id": "jXElWujL-k7W"
      }
    },
    {
      "cell_type": "code",
      "execution_count": 9,
      "source": [
        "### 交差検証\n",
        "FOLD = 5\n",
        "cross_rmse_merlion = []\n",
        "\n",
        "tscv = TimeSeriesSplit(n_splits=FOLD, test_size=90)\n",
        "\n",
        "# 日時データをindexに変換\n",
        "X = copy.deepcopy(df)\n",
        "\n",
        "for fold, (train_index, test_index) in enumerate(tscv.split(X)):\n",
        "\n",
        "    train, test = X.iloc[train_index], X.iloc[test_index]\n",
        "\n",
        "    model = DefaultForecaster(DefaultForecasterConfig())\n",
        "\n",
        "    # データ変換\n",
        "    train_ts = TimeSeries.from_pd(train.set_index(\"ds\"))\n",
        "    test_ts = TimeSeries.from_pd(test.set_index(\"ds\"))\n",
        "\n",
        "    # 学習\n",
        "    model.train(train_data=train_ts)\n",
        "\n",
        "    # 予測データの作成\n",
        "    pred_merlion, test_err_merlion = model.forecast(time_stamps=test_ts.time_stamps)\n",
        "\n",
        "    pred_merlion = pred_merlion.to_pd()\n",
        "\n",
        "    score = np.sqrt(mean_squared_error(test[\"y\"], pred_merlion))\n",
        "    print(f\"{fold} RMSE {score}\")\n",
        "\n",
        "    cross_rmse_merlion.append(score)\n",
        "\n",
        "print(f\"CROSS_RMSE {np.mean(cross_rmse_merlion)}\")"
      ],
      "outputs": [
        {
          "output_type": "stream",
          "name": "stdout",
          "text": [
            "0 RMSE 0.934592432240609\n",
            "1 RMSE 1.2889941734860686\n",
            "2 RMSE 0.388595149290967\n",
            "3 RMSE 0.7980016535238239\n",
            "4 RMSE 0.6990518925540717\n",
            "CROSS_RMSE 0.8218470602191081\n"
          ]
        }
      ],
      "metadata": {
        "colab": {
          "base_uri": "https://localhost:8080/"
        },
        "id": "hFynHkxD3UFR",
        "outputId": "d964e79a-ad32-44e2-b8f7-c31546a5f596"
      }
    },
    {
      "cell_type": "code",
      "execution_count": 10,
      "source": [
        "time_merlion = time.time() - start_merlion"
      ],
      "outputs": [],
      "metadata": {
        "id": "_GdKmbw6-v_h"
      }
    },
    {
      "cell_type": "markdown",
      "source": [
        "### Prophet"
      ],
      "metadata": {
        "id": "r4rUYmyEsSmR"
      }
    },
    {
      "cell_type": "code",
      "execution_count": 11,
      "source": [
        "from fbprophet import Prophet"
      ],
      "outputs": [],
      "metadata": {
        "id": "CoO2SUWHIP-i"
      }
    },
    {
      "cell_type": "code",
      "execution_count": 12,
      "source": [
        "start_prophet = time.time()"
      ],
      "outputs": [],
      "metadata": {
        "id": "jEKUma4D-xkn"
      }
    },
    {
      "cell_type": "code",
      "execution_count": 13,
      "source": [
        "### 交差検証\n",
        "FOLD = 5\n",
        "cross_rmse_prophet = []\n",
        "\n",
        "tscv = TimeSeriesSplit(n_splits=FOLD, test_size=90)\n",
        "\n",
        "# 日時データをindexに変換\n",
        "X = copy.deepcopy(df)\n",
        "\n",
        "for fold, (train_index, test_index) in enumerate(tscv.split(X)):\n",
        "\n",
        "    train, test = X.iloc[train_index], X.iloc[test_index]\n",
        "\n",
        "    # モデルの作成\n",
        "    model = Prophet(weekly_seasonality=True, yearly_seasonality=True, daily_seasonality=True)\n",
        "\n",
        "    # 学習\n",
        "    model.fit(train)\n",
        "\n",
        "    # 予測データの作成\n",
        "    pred = model.predict(test)\n",
        "    pred_prophet = pred[\"yhat\"]\n",
        "\n",
        "    score = np.sqrt(mean_squared_error(test[\"y\"], pred_prophet))\n",
        "    print(f\"{fold} RMSE {score}\")\n",
        "\n",
        "    cross_rmse_prophet.append(score)\n",
        "\n",
        "print(f\"CROSS_RMSE {np.mean(cross_rmse_prophet)}\")"
      ],
      "outputs": [
        {
          "output_type": "stream",
          "name": "stdout",
          "text": [
            "0 RMSE 0.5474948116417262\n",
            "1 RMSE 0.5237987723436899\n",
            "2 RMSE 0.40175956155830167\n",
            "3 RMSE 0.3339674222738705\n",
            "4 RMSE 0.6895171487289081\n",
            "CROSS_RMSE 0.4993075433092993\n"
          ]
        }
      ],
      "metadata": {
        "colab": {
          "base_uri": "https://localhost:8080/"
        },
        "id": "jezq0Oj_zwFc",
        "outputId": "b2e8c80d-c6fe-4cbd-ae8e-3c419ed0fb01"
      }
    },
    {
      "cell_type": "code",
      "execution_count": 14,
      "source": [
        "time_prophet = time.time() - start_prophet"
      ],
      "outputs": [],
      "metadata": {
        "id": "jb417_0k-3__"
      }
    },
    {
      "cell_type": "markdown",
      "source": [
        "### Sktime"
      ],
      "metadata": {
        "id": "9-QkU6FA3Aeu"
      }
    },
    {
      "cell_type": "code",
      "execution_count": 15,
      "source": [
        "from sktime.forecasting.all import *"
      ],
      "outputs": [],
      "metadata": {
        "id": "ek_aV9PCIgl7"
      }
    },
    {
      "cell_type": "code",
      "execution_count": 16,
      "source": [
        "start_sktime = time.time()"
      ],
      "outputs": [],
      "metadata": {
        "id": "X60wNqQZ-5ev"
      }
    },
    {
      "cell_type": "code",
      "execution_count": 17,
      "source": [
        "### 交差検証\n",
        "FOLD = 5\n",
        "cross_rmse_sktime = []\n",
        "\n",
        "tscv = TimeSeriesSplit(n_splits=FOLD, test_size=90)\n",
        "\n",
        "# 日時データをindexに変換\n",
        "X = copy.deepcopy(df)\n",
        "\n",
        "for fold, (train_index, test_index) in enumerate(tscv.split(X)):\n",
        "\n",
        "    train, test = X.iloc[train_index], X.iloc[test_index]\n",
        "\n",
        "    # 学習\n",
        "    model = ThetaForecaster(sp=len(test))\n",
        "    model.fit(train[\"y\"])\n",
        "\n",
        "    fh = ForecastingHorizon(test.index, is_relative=False)\n",
        "\n",
        "    # 予測データの作成\n",
        "    pred_sktime = model.predict(fh)\n",
        "\n",
        "    score = np.sqrt(mean_squared_error(test[\"y\"], pred_sktime))\n",
        "    print(f\"{fold} RMSE {score}\")\n",
        "\n",
        "    cross_rmse_sktime.append(score)\n",
        "\n",
        "print(f\"CROSS_RMSE {np.mean(cross_rmse_sktime)}\")"
      ],
      "outputs": [
        {
          "output_type": "stream",
          "name": "stdout",
          "text": [
            "0 RMSE 0.5681174132001073\n",
            "1 RMSE 0.9714290493152103\n",
            "2 RMSE 0.41541750187681675\n",
            "3 RMSE 0.7989632631199044\n",
            "4 RMSE 0.9043241366350266\n",
            "CROSS_RMSE 0.7316502728294131\n"
          ]
        }
      ],
      "metadata": {
        "colab": {
          "base_uri": "https://localhost:8080/"
        },
        "id": "fky--1MGrjaU",
        "outputId": "14244216-054b-42ea-9ce4-f689f487bfe7"
      }
    },
    {
      "cell_type": "code",
      "execution_count": 18,
      "source": [
        "time_sktime = time.time() - start_sktime"
      ],
      "outputs": [],
      "metadata": {
        "id": "deJ88ucL-_AG"
      }
    },
    {
      "cell_type": "markdown",
      "source": [
        "### LSTM-Pytorch"
      ],
      "metadata": {
        "id": "O-3bij6G1BYF"
      }
    },
    {
      "cell_type": "code",
      "execution_count": 19,
      "source": [
        "import torch.nn as nn\n",
        "from torch.utils.data import DataLoader\n",
        "from torch.autograd import Variable"
      ],
      "outputs": [],
      "metadata": {
        "id": "dFmQW_O6pi-D"
      }
    },
    {
      "cell_type": "code",
      "execution_count": 20,
      "source": [
        "# 時系列データの作成関数\n",
        "def sliding_windows(data, seq_length , train):\n",
        "    if train:\n",
        "        x = []\n",
        "        y = []\n",
        "        for i in range(len(data)-seq_length*2):\n",
        "            _x = data.iloc[i:(i+seq_length)]\n",
        "            _y = data.iloc[i+(seq_length*2)]\n",
        "            x.append(_x)\n",
        "            y.append(_y)\n",
        "        return np.array(x).reshape(len(x), -1, 1), np.array(y).reshape(-1,1)\n",
        "    else:\n",
        "        x = []\n",
        "        for i in range(len(data)-seq_length+1):\n",
        "            _x = data[i:(i+seq_length)].values\n",
        "            x.append(_x)\n",
        "        return np.array(x)"
      ],
      "outputs": [],
      "metadata": {
        "id": "MyltHvedpjAZ"
      }
    },
    {
      "cell_type": "code",
      "execution_count": 21,
      "source": [
        "### 学習モデル\n",
        "class LSTM(nn.Module):\n",
        "    def __init__(self, num_classes, input_size, hidden_size, num_layers):\n",
        "        super(LSTM, self).__init__()\n",
        "        self.device = torch.device('cuda' if torch.cuda.is_available() else 'cpu')\n",
        "        self.num_classes = num_classes\n",
        "        self.num_layers = num_layers\n",
        "        self.input_size = input_size\n",
        "        self.hidden_size = hidden_size\n",
        "        self.batch_size = batch_size\n",
        "        self.LSTM = nn.LSTM(input_size=input_size, hidden_size=hidden_size, num_layers=num_layers,batch_first=True,dropout = 0.25)\n",
        "        self.fc = nn.Linear(hidden_size, num_classes)\n",
        "        self.dropout = nn.Dropout(p=0.2)\n",
        "\n",
        "    def forward(self, x):\n",
        "        h_1 = Variable(torch.zeros(self.num_layers, x.size(0), self.hidden_size).to(self.device))\n",
        "        c_1 = Variable(torch.zeros(self.num_layers, x.size(0), self.hidden_size).to(self.device))\n",
        "        _, (hn, cn) = self.LSTM(x, (h_1, c_1))\n",
        "        y = hn.view(-1, self.hidden_size)\n",
        "        final_state = hn.view(self.num_layers, x.size(0), self.hidden_size)[-1]\n",
        "        out = self.fc(final_state)\n",
        "        return out"
      ],
      "outputs": [],
      "metadata": {
        "id": "_Qz6m3vRqQZ0"
      }
    },
    {
      "cell_type": "code",
      "execution_count": 22,
      "source": [
        "seq_length = 12\n",
        "\n",
        "X, y = sliding_windows(df[\"y\"], seq_length, True)"
      ],
      "outputs": [],
      "metadata": {
        "id": "o2hh5sOBpySj"
      }
    },
    {
      "cell_type": "code",
      "execution_count": 23,
      "source": [
        "# 学習用パラメータ\n",
        "num_epochs = 300\n",
        "learning_rate = 1e-3\n",
        "input_size = X.shape[-1]\n",
        "hidden_size = 64 # 512\n",
        "num_layers = 12 # 3\n",
        "num_classes = 1 # 1\n",
        "batch_size = 16"
      ],
      "outputs": [],
      "metadata": {
        "id": "LnFzQaTBqWx7"
      }
    },
    {
      "cell_type": "code",
      "execution_count": 24,
      "source": [
        "# 学習モデルの作成\n",
        "device = torch.device('cuda' if torch.cuda.is_available() else 'cpu')\n",
        "\n",
        "lstm = LSTM(num_classes, input_size, hidden_size, num_layers)\n",
        "lstm.to(device)\n",
        "criterion = torch.nn.MSELoss().to(device)\n",
        "optimizer = torch.optim.Adam(lstm.parameters(), lr=learning_rate,weight_decay=1e-5)\n",
        "scheduler = torch.optim.lr_scheduler.ReduceLROnPlateau(optimizer,  patience=100, factor =0.5 ,min_lr=1e-7, eps=1e-08)"
      ],
      "outputs": [],
      "metadata": {
        "id": "mBADAEouqUq7"
      }
    },
    {
      "cell_type": "code",
      "execution_count": 25,
      "source": [
        "start_lstm_torch = time.time()"
      ],
      "outputs": [],
      "metadata": {
        "id": "0O2pdHfGrmtE"
      }
    },
    {
      "cell_type": "code",
      "execution_count": 26,
      "source": [
        "### 交差検証\n",
        "FOLD = 5\n",
        "cross_rmse_lstm_torch = []\n",
        "\n",
        "tscv = TimeSeriesSplit(n_splits=FOLD, test_size=90)\n",
        "\n",
        "for fold, (train_index, test_index) in enumerate(tscv.split(X)):\n",
        "\n",
        "    loss_list = []\n",
        "    val_loss_list =[]\n",
        "\n",
        "    X_train = Variable(torch.Tensor(np.array(X[train_index])))\n",
        "    y_train = Variable(torch.Tensor(np.array(y[train_index])))\n",
        "    X_test = Variable(torch.Tensor(np.array(X[test_index])))\n",
        "    y_test = Variable(torch.Tensor(np.array(y[test_index])))\n",
        "\n",
        "\n",
        "    for epoch in tqdm(range(num_epochs)): \n",
        "        lstm.train()\n",
        "        outputs = lstm(X_train.to(device))\n",
        "        optimizer.zero_grad()\n",
        "        \n",
        "        # obtain the loss function\n",
        "        loss = criterion(outputs, y_train.to(device))\n",
        "        \n",
        "        loss.backward()\n",
        "        \n",
        "        optimizer.step()\n",
        "        \n",
        "        #Evaluate on test     \n",
        "        lstm.eval()\n",
        "        valid = lstm(X_test.to(device))\n",
        "        val_loss = criterion(valid, y_test.to(device))\n",
        "        scheduler.step(val_loss)\n",
        "\n",
        "        loss_list.append(loss)\n",
        "        val_loss_list.append(val_loss)\n",
        "        \n",
        "        if epoch % 100 == 0:\n",
        "            print(\"Epoch: %d, loss: %1.5f valid loss:  %1.5f \" %(epoch, loss.cpu().item(),val_loss.cpu().item()))\n",
        "\n",
        "    plt.title(f'{fold} model loss')\n",
        "    plt.xlabel('epoch')\n",
        "    plt.ylabel('loss')\n",
        "    plt.plot(loss_list, label=\"train_set\")\n",
        "    plt.plot(val_loss_list, label=\"test_set\")\n",
        "    plt.legend()\n",
        "    plt.show()\n",
        "\n",
        "    # 予測\n",
        "    pred_lstm_torch = lstm(X_test.to(device))\n",
        "    pred_lstm_torch = pred_lstm_torch.cpu().detach().numpy()\n",
        "\n",
        "    score = np.sqrt(mean_squared_error(y_test, pred_lstm_torch))\n",
        "    print(f\"{fold} RMSE {score}\")\n",
        "\n",
        "    cross_rmse_lstm_torch.append(score)\n",
        "\n",
        "print(f\"CROSS_RMSE {np.mean(cross_rmse_lstm_torch)}\")"
      ],
      "outputs": [
        {
          "output_type": "display_data",
          "data": {
            "application/vnd.jupyter.widget-view+json": {
              "model_id": "caf80bdb70be48e9865730f91152dcc1",
              "version_minor": 0,
              "version_major": 2
            },
            "text/plain": [
              "  0%|          | 0/300 [00:00<?, ?it/s]"
            ]
          },
          "metadata": {}
        },
        {
          "output_type": "stream",
          "name": "stdout",
          "text": [
            "Epoch: 0, loss: 68.27299 valid loss:  71.49181 \n",
            "Epoch: 100, loss: 0.73358 valid loss:  0.33627 \n",
            "Epoch: 200, loss: 0.73139 valid loss:  0.35829 \n"
          ]
        },
        {
          "output_type": "display_data",
          "data": {
            "image/png": "[encoded data removed]",
            "text/plain": [
              "<Figure size 432x288 with 1 Axes>"
            ]
          },
          "metadata": {
            "needs_background": "light"
          }
        },
        {
          "output_type": "stream",
          "name": "stdout",
          "text": [
            "0 RMSE 0.5986557006835938\n"
          ]
        },
        {
          "output_type": "display_data",
          "data": {
            "application/vnd.jupyter.widget-view+json": {
              "model_id": "c7ed2fd372b54c84a3472447095e0ff0",
              "version_minor": 0,
              "version_major": 2
            },
            "text/plain": [
              "  0%|          | 0/300 [00:00<?, ?it/s]"
            ]
          },
          "metadata": {}
        },
        {
          "output_type": "stream",
          "name": "stdout",
          "text": [
            "Epoch: 0, loss: 0.71813 valid loss:  0.66997 \n",
            "Epoch: 100, loss: 0.71820 valid loss:  0.67984 \n",
            "Epoch: 200, loss: 0.71790 valid loss:  0.68020 \n"
          ]
        },
        {
          "output_type": "display_data",
          "data": {
            "image/png": "[encoded data removed]",
            "text/plain": [
              "<Figure size 432x288 with 1 Axes>"
            ]
          },
          "metadata": {
            "needs_background": "light"
          }
        },
        {
          "output_type": "stream",
          "name": "stdout",
          "text": [
            "1 RMSE 0.8247706890106201\n"
          ]
        },
        {
          "output_type": "display_data",
          "data": {
            "application/vnd.jupyter.widget-view+json": {
              "model_id": "7542dc2aecfe4c8db557346044502d36",
              "version_minor": 0,
              "version_major": 2
            },
            "text/plain": [
              "  0%|          | 0/300 [00:00<?, ?it/s]"
            ]
          },
          "metadata": {}
        },
        {
          "output_type": "stream",
          "name": "stdout",
          "text": [
            "Epoch: 0, loss: 0.71695 valid loss:  1.27893 \n",
            "Epoch: 100, loss: 0.71612 valid loss:  1.26326 \n",
            "Epoch: 200, loss: 0.71666 valid loss:  1.25656 \n"
          ]
        },
        {
          "output_type": "display_data",
          "data": {
            "image/png": "[encoded data removed]",
            "text/plain": [
              "<Figure size 432x288 with 1 Axes>"
            ]
          },
          "metadata": {
            "needs_background": "light"
          }
        },
        {
          "output_type": "stream",
          "name": "stdout",
          "text": [
            "2 RMSE 1.1196686029434204\n"
          ]
        },
        {
          "output_type": "display_data",
          "data": {
            "application/vnd.jupyter.widget-view+json": {
              "model_id": "32183dac238b4fa2a4d0e0cf2ed552e2",
              "version_minor": 0,
              "version_major": 2
            },
            "text/plain": [
              "  0%|          | 0/300 [00:00<?, ?it/s]"
            ]
          },
          "metadata": {}
        },
        {
          "output_type": "stream",
          "name": "stdout",
          "text": [
            "Epoch: 0, loss: 0.73391 valid loss:  0.44486 \n",
            "Epoch: 100, loss: 0.73323 valid loss:  0.44258 \n",
            "Epoch: 200, loss: 0.73348 valid loss:  0.44130 \n"
          ]
        },
        {
          "output_type": "display_data",
          "data": {
            "image/png": "[encoded data removed]",
            "text/plain": [
              "<Figure size 432x288 with 1 Axes>"
            ]
          },
          "metadata": {
            "needs_background": "light"
          }
        },
        {
          "output_type": "stream",
          "name": "stdout",
          "text": [
            "3 RMSE 0.6638040542602539\n"
          ]
        },
        {
          "output_type": "display_data",
          "data": {
            "application/vnd.jupyter.widget-view+json": {
              "model_id": "58a20b50d43f4122a429da8ae5915577",
              "version_minor": 0,
              "version_major": 2
            },
            "text/plain": [
              "  0%|          | 0/300 [00:00<?, ?it/s]"
            ]
          },
          "metadata": {}
        },
        {
          "output_type": "stream",
          "name": "stdout",
          "text": [
            "Epoch: 0, loss: 0.72385 valid loss:  0.61654 \n",
            "Epoch: 100, loss: 0.72371 valid loss:  0.61662 \n",
            "Epoch: 200, loss: 0.72364 valid loss:  0.61666 \n"
          ]
        },
        {
          "output_type": "display_data",
          "data": {
            "image/png": "[encoded data removed]",
            "text/plain": [
              "<Figure size 432x288 with 1 Axes>"
            ]
          },
          "metadata": {
            "needs_background": "light"
          }
        },
        {
          "output_type": "stream",
          "name": "stdout",
          "text": [
            "4 RMSE 0.7852904200553894\n",
            "CROSS_RMSE 0.7984379529953003\n"
          ]
        }
      ],
      "metadata": {
        "colab": {
          "base_uri": "https://localhost:8080/",
          "height": 1000,
          "referenced_widgets": [
            "caf80bdb70be48e9865730f91152dcc1",
            "e26b1c09c4c749569513c2e9dab36ccc",
            "42ca232d3b6543bdb214b1711233c032",
            "d168e5ad459143da87e7d80eb47fe9f2",
            "97fedd0ba021446da008d6bacaba2392",
            "776b6fe63d154374bd88b6ca0665809d",
            "624d4d87e43a4ec0abadd9ef10a3ef97",
            "0fdc76ae77094e6a93af3a5f0e474667",
            "dd570a7465ec4766a7e0d6517b752486",
            "f5ddcb48be5e4ecd85c2ca27a54538ac",
            "50d44dac508743fbbf5664d57aed90a3"
          ]
        },
        "id": "P264-H3pqlk-",
        "outputId": "8c4ec412-0c63-4ed5-9f28-f74ddc61c97e"
      }
    },
    {
      "cell_type": "code",
      "execution_count": 27,
      "source": [
        "time_lstm_torch = time.time() - start_lstm_torch"
      ],
      "outputs": [],
      "metadata": {
        "id": "jZzbe9YCsJNW"
      }
    },
    {
      "cell_type": "markdown",
      "source": [
        "## LSTM-Keras"
      ],
      "metadata": {
        "id": "cB08GnD5hhys"
      }
    },
    {
      "cell_type": "code",
      "execution_count": 28,
      "source": [
        "import tensorflow.keras\n",
        "from tensorflow.keras.models import Sequential\n",
        "from tensorflow.keras.layers import Dense, Activation, LSTM\n",
        "from tensorflow.keras.optimizers import Adam\n",
        "import tensorflow as tf"
      ],
      "outputs": [],
      "metadata": {
        "id": "z3sBR_eZhh6C"
      }
    },
    {
      "cell_type": "code",
      "execution_count": 29,
      "source": [
        "# ネットワークの構築\n",
        "model = Sequential() # Sequentialモデル\n",
        "\n",
        "model.add(LSTM(50, batch_input_shape=(None, seq_length, 1))) # LSTM 50層\n",
        "model.add(Dense(1)) # 出力次元数は1\n",
        "\n",
        "#コンパイル\n",
        "model.compile(loss='mean_squared_error', optimizer=Adam() , metrics = ['accuracy'])\n",
        "model.summary()"
      ],
      "outputs": [
        {
          "output_type": "stream",
          "name": "stdout",
          "text": [
            "Model: \"sequential\"\n",
            "_________________________________________________________________\n",
            "Layer (type)                 Output Shape              Param #   \n",
            "=================================================================\n",
            "lstm (LSTM)                  (None, 50)                10400     \n",
            "_________________________________________________________________\n",
            "dense (Dense)                (None, 1)                 51        \n",
            "=================================================================\n",
            "Total params: 10,451\n",
            "Trainable params: 10,451\n",
            "Non-trainable params: 0\n",
            "_________________________________________________________________\n"
          ]
        }
      ],
      "metadata": {
        "colab": {
          "base_uri": "https://localhost:8080/"
        },
        "id": "HX0oUGiTiE_L",
        "outputId": "fa7810b6-37a8-4221-90e4-11f9218585ba"
      }
    },
    {
      "cell_type": "code",
      "execution_count": 30,
      "source": [
        "print(X.shape, y.shape)"
      ],
      "outputs": [
        {
          "output_type": "stream",
          "name": "stdout",
          "text": [
            "(2881, 12, 1) (2881, 1)\n"
          ]
        }
      ],
      "metadata": {
        "colab": {
          "base_uri": "https://localhost:8080/"
        },
        "id": "xOknkegDnwjB",
        "outputId": "2a80d61a-ef2a-4516-98be-9b49c377a2f5"
      }
    },
    {
      "cell_type": "code",
      "execution_count": 31,
      "source": [
        "start_lstm_keras = time.time()"
      ],
      "outputs": [],
      "metadata": {
        "id": "X1ZpLhU3i80p"
      }
    },
    {
      "cell_type": "code",
      "execution_count": 32,
      "source": [
        "# 学習用パラメータ\n",
        "batch_size = 20\n",
        "n_epoch = 40\n",
        "\n",
        "### 交差検証\n",
        "FOLD = 5\n",
        "cross_rmse_lstm_keras = []\n",
        "\n",
        "tscv = TimeSeriesSplit(n_splits=FOLD, test_size=90)\n",
        "\n",
        "for fold, (train_index, test_index) in enumerate(tscv.split(X)):\n",
        "    X_train, X_test = X[train_index], X[test_index]\n",
        "    y_train, y_test = y[train_index], y[test_index]\n",
        "\n",
        "    # 学習\n",
        "    hist = model.fit(X_train, y_train,\n",
        "                    epochs=n_epoch,\n",
        "                    validation_data=(X_test, y_test),\n",
        "                    verbose=0,\n",
        "                    batch_size=batch_size)\n",
        "\n",
        "    # 損失値(Loss)の遷移のプロット\n",
        "    plt.plot(hist.history['loss'],label=\"train set\")\n",
        "    plt.plot(hist.history['val_loss'],label=\"test set\")\n",
        "    plt.title(f'{fold} model loss')\n",
        "    plt.xlabel('epoch')\n",
        "    plt.ylabel('loss')\n",
        "    plt.legend()\n",
        "    plt.show()\n",
        "\n",
        "    pred_lstm_keras = model.predict(X_test)\n",
        "\n",
        "    score = np.sqrt(mean_squared_error(y_test, pred_lstm_keras))\n",
        "    print(f\"{fold} RMSE {score}\")\n",
        "\n",
        "    cross_rmse_lstm_keras.append(score)\n",
        "\n",
        "print(f\"CROSS_RMSE {np.mean(cross_rmse_lstm_keras)}\")"
      ],
      "outputs": [
        {
          "output_type": "display_data",
          "data": {
            "image/png": "[encoded data removed]",
            "text/plain": [
              "<Figure size 432x288 with 1 Axes>"
            ]
          },
          "metadata": {
            "needs_background": "light"
          }
        },
        {
          "output_type": "stream",
          "name": "stdout",
          "text": [
            "0 RMSE 0.5162700853822174\n"
          ]
        },
        {
          "output_type": "display_data",
          "data": {
            "image/png": "[encoded data removed]",
            "text/plain": [
              "<Figure size 432x288 with 1 Axes>"
            ]
          },
          "metadata": {
            "needs_background": "light"
          }
        },
        {
          "output_type": "stream",
          "name": "stdout",
          "text": [
            "1 RMSE 0.4774951598182519\n"
          ]
        },
        {
          "output_type": "display_data",
          "data": {
            "image/png": "[encoded data removed]",
            "text/plain": [
              "<Figure size 432x288 with 1 Axes>"
            ]
          },
          "metadata": {
            "needs_background": "light"
          }
        },
        {
          "output_type": "stream",
          "name": "stdout",
          "text": [
            "2 RMSE 0.4028385104320866\n"
          ]
        },
        {
          "output_type": "display_data",
          "data": {
            "image/png": "[encoded data removed]",
            "text/plain": [
              "<Figure size 432x288 with 1 Axes>"
            ]
          },
          "metadata": {
            "needs_background": "light"
          }
        },
        {
          "output_type": "stream",
          "name": "stdout",
          "text": [
            "3 RMSE 0.5640908947219808\n"
          ]
        },
        {
          "output_type": "display_data",
          "data": {
            "image/png": "[encoded data removed]",
            "text/plain": [
              "<Figure size 432x288 with 1 Axes>"
            ]
          },
          "metadata": {
            "needs_background": "light"
          }
        },
        {
          "output_type": "stream",
          "name": "stdout",
          "text": [
            "4 RMSE 0.7047805315459569\n",
            "CROSS_RMSE 0.5330950363800987\n"
          ]
        }
      ],
      "metadata": {
        "colab": {
          "base_uri": "https://localhost:8080/",
          "height": 1000
        },
        "id": "7eszq1ftiTAa",
        "outputId": "c87fa7be-a8ae-40bf-ccd0-0bd01fccd715"
      }
    },
    {
      "cell_type": "code",
      "execution_count": 33,
      "source": [
        "time_lstm_keras = time.time() - start_lstm_keras"
      ],
      "outputs": [],
      "metadata": {
        "id": "10Z4gEB1i8MT"
      }
    },
    {
      "cell_type": "markdown",
      "source": [
        "### lightGBM\n",
        "\n"
      ],
      "metadata": {
        "id": "voEMJjH590Qn"
      }
    },
    {
      "cell_type": "code",
      "execution_count": 34,
      "source": [
        "import lightgbm as lgbm"
      ],
      "outputs": [],
      "metadata": {
        "id": "a3LLVbVwIcHM"
      }
    },
    {
      "cell_type": "code",
      "execution_count": 35,
      "source": [
        "# 元のデータを残すため、別途コピー\n",
        "df_lag = df.copy()"
      ],
      "outputs": [],
      "metadata": {
        "id": "ls9LBJQO977X"
      }
    },
    {
      "cell_type": "code",
      "execution_count": 36,
      "source": [
        "# 時系列特徴量の作成\n",
        "df_lag[\"year\"]  = df_lag[\"ds\"].dt.year\n",
        "df_lag[\"month\"] = df_lag[\"ds\"].dt.month\n",
        "df_lag[\"day\"]  = df_lag[\"ds\"].dt.day\n",
        "df_lag[\"dayofweek\"] = df_lag[\"ds\"].dt.dayofweek"
      ],
      "outputs": [],
      "metadata": {
        "id": "2Z9dKsMjFNKs"
      }
    },
    {
      "cell_type": "code",
      "execution_count": 37,
      "source": [
        "# ラグの作成 簡単に1週間と1ヶ月で作成\n",
        "for i in [7, 30]:\n",
        "    df_lag[f\"shift{i}\"] = df_lag[\"y\"].shift(i)\n",
        "\n",
        "# 差分の作成\n",
        "for i in [7, 30]:\n",
        "    df_lag[f\"deriv{i}\"] = df_lag[f\"shift{i}\"].diff(i)\n",
        "\n",
        "# 移動平均の作成\n",
        "for i in [7, 30]:\n",
        "    df_lag[f\"mean{i}\"] = df_lag[f\"shift{i}\"].rolling(12).mean()\n",
        "\n",
        "# 中央値、最大値、最小値の作成\n",
        "for i in [7, 30]:\n",
        "    df_lag[f\"median{i}\"] = df_lag[f\"shift{i}\"].rolling(12).median()\n",
        "\n",
        "for i in [7, 30]:\n",
        "    df_lag[f\"max{i}\"] = df_lag[f\"shift{i}\"].rolling(12).max()\n",
        "\n",
        "for i in [7, 30]:\n",
        "    df_lag[f\"min{i}\"] = df_lag[f\"shift{i}\"].rolling(12).min()"
      ],
      "outputs": [],
      "metadata": {
        "id": "ncoHX77F-jNR"
      }
    },
    {
      "cell_type": "code",
      "execution_count": 38,
      "source": [
        "# NaN部分を削除\n",
        "df_lag = df_lag[41:]"
      ],
      "outputs": [],
      "metadata": {
        "id": "bNMhjDI1Cby1"
      }
    },
    {
      "cell_type": "code",
      "execution_count": 39,
      "source": [
        "# ds列をindexにして説明変数から除外\n",
        "df_lag = df_lag.set_index(\"ds\")"
      ],
      "outputs": [],
      "metadata": {
        "id": "R2XRayGzE2y9"
      }
    },
    {
      "cell_type": "code",
      "execution_count": 40,
      "source": [
        "start_lgbm = time.time()"
      ],
      "outputs": [],
      "metadata": {
        "id": "sdGVRvy7_K9G"
      }
    },
    {
      "cell_type": "code",
      "execution_count": 41,
      "source": [
        "### 交差検証\n",
        "\n",
        "FOLD = 5\n",
        "\n",
        "cross_rmse_lgbm = []\n",
        "\n",
        "tscv = TimeSeriesSplit(n_splits=FOLD, test_size=90)\n",
        "\n",
        "X = df_lag.drop(\"y\", axis=1).reset_index(drop=True)\n",
        "y = df_lag[\"y\"].reset_index(drop=True)\n",
        "\n",
        "for fold, (train_index, test_index) in enumerate(tscv.split(X)):\n",
        "    X_train, X_test = X.iloc[train_index], X.iloc[test_index]\n",
        "    y_train, y_test = y.iloc[train_index], y.iloc[test_index]\n",
        "\n",
        "    # 学習\n",
        "    model = lgbm.LGBMRegressor()\n",
        "    model.fit(X_train, y_train)\n",
        "\n",
        "    # 予測データの作成\n",
        "    pred_lgbm = model.predict(X_test)\n",
        "\n",
        "    score = np.sqrt(mean_squared_error(y_test, pred_lgbm))\n",
        "    print(f\"{fold} RMSE {score}\")\n",
        "\n",
        "    cross_rmse_lgbm.append(score)\n",
        "\n",
        "print(f\"CROSS_RMSE {np.mean(cross_rmse_lgbm)}\")"
      ],
      "outputs": [
        {
          "output_type": "stream",
          "name": "stdout",
          "text": [
            "0 RMSE 0.5181829606809563\n",
            "1 RMSE 0.39159050487578206\n",
            "2 RMSE 0.40106205424817953\n",
            "3 RMSE 0.3310192560640644\n",
            "4 RMSE 0.683346704646242\n",
            "CROSS_RMSE 0.46504029610304476\n"
          ]
        }
      ],
      "metadata": {
        "colab": {
          "base_uri": "https://localhost:8080/"
        },
        "id": "mkfaecySgOKO",
        "outputId": "6266996e-c369-4c8e-b34f-a2d906c463cf"
      }
    },
    {
      "cell_type": "code",
      "execution_count": 42,
      "source": [
        "time_lgbm = time.time() - start_lgbm"
      ],
      "outputs": [],
      "metadata": {
        "id": "IQSDOteg_P0v"
      }
    },
    {
      "cell_type": "markdown",
      "source": [
        "### 評価結果 比較"
      ],
      "metadata": {
        "id": "pjdv1UrdiGjd"
      }
    },
    {
      "cell_type": "code",
      "execution_count": 43,
      "source": [
        "pd.DataFrame(\n",
        "    [\n",
        "        [\"Merlion\", np.mean(cross_rmse_merlion), time_merlion],\n",
        "        [\"Prophet\", np.mean(cross_rmse_prophet), time_prophet],\n",
        "        [\"Sktime\", np.mean(cross_rmse_sktime), time_sktime],\n",
        "        [\"LSTM Pytorch\", np.mean(cross_rmse_lstm_torch), time_lstm_torch],\n",
        "        [\"LSTM Keras\", np.mean(cross_rmse_lstm_keras), time_lstm_keras],\n",
        "        [\"LightGBM\", np.mean(cross_rmse_lgbm), time_lgbm],\n",
        "    ],\n",
        "    columns = [\"モデル\", \"CROSS_RMSE\", \"処理時間\"]\n",
        ").sort_values(\"CROSS_RMSE\").reset_index(drop=True)"
      ],
      "outputs": [
        {
          "output_type": "execute_result",
          "data": {
            "text/html": [
              "<div>\n",
              "<style scoped>\n",
              "    .dataframe tbody tr th:only-of-type {\n",
              "        vertical-align: middle;\n",
              "    }\n",
              "\n",
              "    .dataframe tbody tr th {\n",
              "        vertical-align: top;\n",
              "    }\n",
              "\n",
              "    .dataframe thead th {\n",
              "        text-align: right;\n",
              "    }\n",
              "</style>\n",
              "<table border=\"1\" class=\"dataframe\">\n",
              "  <thead>\n",
              "    <tr style=\"text-align: right;\">\n",
              "      <th></th>\n",
              "      <th>モデル</th>\n",
              "      <th>CROSS_RMSE</th>\n",
              "      <th>処理時間</th>\n",
              "    </tr>\n",
              "  </thead>\n",
              "  <tbody>\n",
              "    <tr>\n",
              "      <th>0</th>\n",
              "      <td>LightGBM</td>\n",
              "      <td>0.465040</td>\n",
              "      <td>1.159070</td>\n",
              "    </tr>\n",
              "    <tr>\n",
              "      <th>1</th>\n",
              "      <td>Prophet</td>\n",
              "      <td>0.499308</td>\n",
              "      <td>18.781461</td>\n",
              "    </tr>\n",
              "    <tr>\n",
              "      <th>2</th>\n",
              "      <td>LSTM Keras</td>\n",
              "      <td>0.533095</td>\n",
              "      <td>88.161003</td>\n",
              "    </tr>\n",
              "    <tr>\n",
              "      <th>3</th>\n",
              "      <td>Sktime</td>\n",
              "      <td>0.731650</td>\n",
              "      <td>0.141143</td>\n",
              "    </tr>\n",
              "    <tr>\n",
              "      <th>4</th>\n",
              "      <td>LSTM Pytorch</td>\n",
              "      <td>0.798438</td>\n",
              "      <td>79.443577</td>\n",
              "    </tr>\n",
              "    <tr>\n",
              "      <th>5</th>\n",
              "      <td>Merlion</td>\n",
              "      <td>0.821847</td>\n",
              "      <td>2.269141</td>\n",
              "    </tr>\n",
              "  </tbody>\n",
              "</table>\n",
              "</div>"
            ],
            "text/plain": [
              "            モデル  CROSS_RMSE       処理時間\n",
              "0      LightGBM    0.465040   1.159070\n",
              "1       Prophet    0.499308  18.781461\n",
              "2    LSTM Keras    0.533095  88.161003\n",
              "3        Sktime    0.731650   0.141143\n",
              "4  LSTM Pytorch    0.798438  79.443577\n",
              "5       Merlion    0.821847   2.269141"
            ]
          },
          "metadata": {},
          "execution_count": 43
        }
      ],
      "metadata": {
        "colab": {
          "base_uri": "https://localhost:8080/",
          "height": 235
        },
        "id": "LX3UB0qonsxg",
        "outputId": "fd833419-2c7c-47d9-9d12-4f4f62395507"
      }
    }
  ]
}